{
 "cells": [
  {
   "cell_type": "code",
   "execution_count": 1,
   "id": "e2992dcb-f3da-4db6-8b13-783af80607e6",
   "metadata": {},
   "outputs": [],
   "source": [
    "from graphviz import Digraph"
   ]
  },
  {
   "cell_type": "code",
   "execution_count": 2,
   "id": "b87bbf81-4434-4bbe-be2e-a3ce1795b630",
   "metadata": {},
   "outputs": [],
   "source": [
    "# インスタンス作成\n",
    "dot = Digraph()"
   ]
  },
  {
   "cell_type": "code",
   "execution_count": 3,
   "id": "ef91ac8a-c596-4b65-a30f-e940a2be56d1",
   "metadata": {},
   "outputs": [],
   "source": [
    "# ノードの属性を設定\n",
    "dot.attr('node', shape='circle')"
   ]
  },
  {
   "cell_type": "code",
   "execution_count": 4,
   "id": "9dd2304e-1ef6-47af-9200-dd8d0ec67065",
   "metadata": {},
   "outputs": [],
   "source": [
    "# ノードを登録\n",
    "dot.node('P', 'P')\n",
    "dot.node('D', 'D')\n",
    "dot.node('C', 'C')\n",
    "dot.node('A', 'A')"
   ]
  },
  {
   "cell_type": "code",
   "execution_count": 5,
   "id": "99e7b187-e37d-4b49-ba5a-156ad21b4206",
   "metadata": {},
   "outputs": [],
   "source": [
    "# エッジの属性を登録\n",
    "dot.attr('edge', arrowsize='2')"
   ]
  },
  {
   "cell_type": "code",
   "execution_count": 6,
   "id": "f1ab2135-2ea3-41ae-959f-5b25673e4e16",
   "metadata": {},
   "outputs": [],
   "source": [
    "# エッジを登録\n",
    "dot.edge('P', 'D')\n",
    "dot.edge('D', 'C')\n",
    "dot.edge('C', 'A')\n",
    "dot.edge('A', 'P')"
   ]
  },
  {
   "cell_type": "code",
   "execution_count": 7,
   "id": "6b0e1303-983c-43a0-8237-f80595fc22f8",
   "metadata": {},
   "outputs": [
    {
     "name": "stdout",
     "output_type": "stream",
     "text": [
      "digraph {\n",
      "\tnode [shape=circle]\n",
      "\tP [label=P]\n",
      "\tD [label=D]\n",
      "\tC [label=C]\n",
      "\tA [label=A]\n",
      "\tedge [arrowsize=2]\n",
      "\tP -> D\n",
      "\tD -> C\n",
      "\tC -> A\n",
      "\tA -> P\n",
      "}\n",
      "\n"
     ]
    }
   ],
   "source": [
    "# 生成されたソースコードを確認\n",
    "print(dot)"
   ]
  },
  {
   "cell_type": "code",
   "execution_count": 8,
   "id": "0d3aef1d-d7c1-46f6-a0f5-bf9bd1f3d685",
   "metadata": {},
   "outputs": [
    {
     "data": {
      "text/plain": [
       "'PDCA.png'"
      ]
     },
     "execution_count": 8,
     "metadata": {},
     "output_type": "execute_result"
    }
   ],
   "source": [
    "# 出力フォーマットを指定してグラフを出力\n",
    "dot.engine = 'circo'\n",
    "dot.filename = 'PDCA'\n",
    "dot.format = 'png'\n",
    "dot.render(view = False)"
   ]
  },
  {
   "cell_type": "code",
   "execution_count": 9,
   "id": "8c3f5469-c888-4354-8225-109335a50dd6",
   "metadata": {},
   "outputs": [
    {
     "data": {
      "image/png": "[encoded data removed]",
      "text/plain": [
       "<IPython.core.display.Image object>"
      ]
     },
     "execution_count": 9,
     "metadata": {},
     "output_type": "execute_result"
    }
   ],
   "source": [
    "# グラフを表示\n",
    "from IPython.display import Image\n",
    "Image('PDCA.png')"
   ]
  },
  {
   "cell_type": "code",
   "execution_count": null,
   "id": "a3b1a52c-9a79-4dfa-904c-94ed2eb32ed7",
   "metadata": {},
   "outputs": [],
   "source": []
  }
 ],
 "metadata": {
  "kernelspec": {
   "display_name": "Python 3 (ipykernel)",
   "language": "python",
   "name": "python3"
  },
  "language_info": {
   "codemirror_mode": {
    "name": "ipython",
    "version": 3
   },
   "file_extension": ".py",
   "mimetype": "text/x-python",
   "name": "python",
   "nbconvert_exporter": "python",
   "pygments_lexer": "ipython3",
   "version": "3.12.2"
  }
 },
 "nbformat": 4,
 "nbformat_minor": 5
}
