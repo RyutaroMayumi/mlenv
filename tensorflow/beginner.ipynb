{
 "cells": [
  {
   "cell_type": "markdown",
   "metadata": {
    "id": "rX8mhOLljYeM"
   },
   "source": [
    "##### Copyright 2019 The TensorFlow Authors."
   ]
  },
  {
   "cell_type": "code",
   "execution_count": 1,
   "metadata": {
    "cellView": "form",
    "id": "BZSlp3DAjdYf"
   },
   "outputs": [],
   "source": [
    "#@title Licensed under the Apache License, Version 2.0 (the \"License\");\n",
    "# you may not use this file except in compliance with the License.\n",
    "# You may obtain a copy of the License at\n",
    "#\n",
    "# https://www.apache.org/licenses/LICENSE-2.0\n",
    "#\n",
    "# Unless required by applicable law or agreed to in writing, software\n",
    "# distributed under the License is distributed on an \"AS IS\" BASIS,\n",
    "# WITHOUT WARRANTIES OR CONDITIONS OF ANY KIND, either express or implied.\n",
    "# See the License for the specific language governing permissions and\n",
    "# limitations under the License."
   ]
  },
  {
   "cell_type": "markdown",
   "metadata": {
    "id": "3wF5wszaj97Y"
   },
   "source": [
    "# 初心者のための TensorFlow 2.0 入門"
   ]
  },
  {
   "cell_type": "markdown",
   "metadata": {
    "id": "DUNzJc4jTj6G"
   },
   "source": [
    "<table class=\"tfo-notebook-buttons\" align=\"left\">\n",
    "  <td><a target=\"_blank\" href=\"https://www.tensorflow.org/tutorials/quickstart/beginner\"><img src=\"https://www.tensorflow.org/images/tf_logo_32px.png\">TensorFlow.org で表示</a></td>\n",
    "  <td><a target=\"_blank\" href=\"https://colab.research.google.com/github/tensorflow/docs-l10n/blob/master/site/ja/tutorials/quickstart/beginner.ipynb\"><img src=\"https://www.tensorflow.org/images/colab_logo_32px.png\">Google Colab で実行</a></td>\n",
    "  <td><a target=\"_blank\" href=\"https://github.com/tensorflow/docs-l10n/blob/master/site/ja/tutorials/quickstart/beginner.ipynb\"><img src=\"https://www.tensorflow.org/images/GitHub-Mark-32px.png\">GitHub でソースを表示</a></td>\n",
    "  <td><a href=\"https://storage.googleapis.com/tensorflow_docs/docs-l10n/site/ja/tutorials/quickstart/beginner.ipynb\"><img src=\"https://www.tensorflow.org/images/download_logo_32px.png\">ノートブックをダウンロード</a></td>\n",
    "</table>"
   ]
  },
  {
   "cell_type": "markdown",
   "metadata": {
    "id": "04QgGZc9bF5D"
   },
   "source": [
    "このガイドでは簡単な導入として、[Keras](https://www.tensorflow.org/guide/keras/overview) を使って次のことを行います。\n",
    "\n",
    "1. 画像を分類するニューラルネットワークを構築する。\n",
    "2. そのニューラルネットワークをトレーニングする。\n",
    "3. 最後に、モデルの精度を評価する。\n",
    "4. モデルの精度を評価します。"
   ]
  },
  {
   "cell_type": "markdown",
   "metadata": {
    "id": "hiH7AC-NTniF"
   },
   "source": [
    "このファイルは [Google Colaboratory](https://colab.research.google.com/notebooks/welcome.ipynb) の notebook ファイルです。 Python プログラムはブラウザ上で直接実行されます。TensorFlow を学んだり使ったりするには最良の方法です。Google Colab のnotebook の実行方法は以下のとおりです。\n",
    "\n",
    "1. Pythonランタイムへの接続：メニューバーの右上で「接続」を選択します。\n",
    "2. ノートブックのすべてのコードを実行するには、**Runtime** &gt; **Run all** を選択します。コードセルを 1 つずつ実行するには、セルにマウスポインタ―を合わせて **Run cell** アイコンを選択します。\n",
    "\n",
    "![Run cell アイコン](images/beginner/run_cell_icon.png)"
   ]
  },
  {
   "cell_type": "markdown",
   "metadata": {
    "id": "nnrWf3PCEzXL"
   },
   "source": [
    "## TensorFlow をセットアップする\n",
    "\n",
    "まず、TensorFlow をプログラムにインポートします。"
   ]
  },
  {
   "cell_type": "code",
   "execution_count": 2,
   "metadata": {
    "id": "0trJmd6DjqBZ"
   },
   "outputs": [
    {
     "name": "stderr",
     "output_type": "stream",
     "text": [
      "2024-04-09 02:24:52.958159: I tensorflow/core/util/port.cc:113] oneDNN custom operations are on. You may see slightly different numerical results due to floating-point round-off errors from different computation orders. To turn them off, set the environment variable `TF_ENABLE_ONEDNN_OPTS=0`.\n",
      "2024-04-09 02:24:53.190321: I tensorflow/core/platform/cpu_feature_guard.cc:210] This TensorFlow binary is optimized to use available CPU instructions in performance-critical operations.\n",
      "To enable the following instructions: AVX2 AVX512F AVX512_VNNI FMA, in other operations, rebuild TensorFlow with the appropriate compiler flags.\n"
     ]
    }
   ],
   "source": [
    "import tensorflow as tf"
   ]
  },
  {
   "cell_type": "markdown",
   "metadata": {
    "id": "7NAbSZiaoJ4z"
   },
   "source": [
    "[Colab](https://colab.research.google.com/github/tensorflow/docs/blob/master/site/en/tutorials/quickstart/beginner.ipynb) ではなく独自の開発環境で手順を実行している場合は、開発用 TensorFlow のセットアップについて、[インストールガイド](https://www.tensorflow.org/install)をご覧ください。\n",
    "\n",
    "注意: 独自の開発環境を使用している場合は、TensorFlow 2 パッケージをインストールする際に、最新の `pip` にアップグレード済みであることを確認してください。詳細は、[インストールガイド](https://www.tensorflow.org/install)をご覧ください。\n",
    "\n",
    "## データセットを読み込む\n",
    "\n",
    "[MNIST データセット](http://yann.lecun.com/exdb/mnist/)を読み込んで準備します。画像のピクセル値は 0～255 です。値を `255.0` で割って、0～1 の範囲に変換しましょう。また、この操作によって、サンプルデータが整数から浮動小数点にも変換されます。"
   ]
  },
  {
   "cell_type": "code",
   "execution_count": 3,
   "metadata": {
    "id": "7FP5258xjs-v"
   },
   "outputs": [
    {
     "name": "stdout",
     "output_type": "stream",
     "text": [
      "Downloading data from https://storage.googleapis.com/tensorflow/tf-keras-datasets/mnist.npz\n",
      "\u001b[1m11490434/11490434\u001b[0m \u001b[32m━━━━━━━━━━━━━━━━━━━━\u001b[0m\u001b[37m\u001b[0m \u001b[1m2s\u001b[0m 0us/step\n"
     ]
    }
   ],
   "source": [
    "mnist = tf.keras.datasets.mnist\n",
    "\n",
    "(x_train, y_train), (x_test, y_test) = mnist.load_data()\n",
    "x_train, x_test = x_train / 255.0, x_test / 255.0"
   ]
  },
  {
   "cell_type": "markdown",
   "metadata": {
    "id": "BPZ68wASog_I"
   },
   "source": [
    "## 機械学習モデルを構築する\n",
    "\n",
    "`tf.keras.Sequential` モデルを構築します。"
   ]
  },
  {
   "cell_type": "code",
   "execution_count": 4,
   "metadata": {
    "id": "h3IKyzTCDNGo"
   },
   "outputs": [
    {
     "name": "stderr",
     "output_type": "stream",
     "text": [
      "/usr/local/lib/python3.11/dist-packages/keras/src/layers/reshaping/flatten.py:37: UserWarning: Do not pass an `input_shape`/`input_dim` argument to a layer. When using Sequential models, prefer using an `Input(shape)` object as the first layer in the model instead.\n",
      "  super().__init__(**kwargs)\n"
     ]
    }
   ],
   "source": [
    "model = tf.keras.models.Sequential([\n",
    "  tf.keras.layers.Flatten(input_shape=(28, 28)),\n",
    "  tf.keras.layers.Dense(128, activation='relu'),\n",
    "  tf.keras.layers.Dropout(0.2),\n",
    "  tf.keras.layers.Dense(10)\n",
    "])"
   ]
  },
  {
   "cell_type": "markdown",
   "metadata": {
    "id": "l2hiez2eIUz8"
   },
   "source": [
    "レイヤーごとに 1 つの入力[テンソル](https://www.tensorflow.org/guide/tensor)と 1 つの出力テンソルを持つ複数のレイヤーをスタックするには、[`Sequential`](https://www.tensorflow.org/guide/keras/sequential_model) が便利です。レイヤーは、既知の数学的構造を持つ関数であり、再利用することが可能で、トレーニング可能な変数を含むことができます。ほとんどの TensorFlow モデルはレイヤーで構成されています。このモデルでは、[`Flatten`](https://www.tensorflow.org/api_docs/python/tf/keras/layers/Flatten)（平坦化された）[`Dense`](https://www.tensorflow.org/api_docs/python/tf/keras/layers/Dense)（密な）[`Dropout`](https://www.tensorflow.org/api_docs/python/tf/keras/layers/Dropout)（ドロップアウト）レイヤーが使用されています。\n",
    "\n",
    "各サンプルについて、モデルは \"[logits](https://developers.google.com/machine-learning/glossary#logits)\" または \"[log-odds](https://developers.google.com/machine-learning/glossary#log-odds)\" スコアのベクトルをクラスごとに返します。"
   ]
  },
  {
   "cell_type": "code",
   "execution_count": 5,
   "metadata": {
    "id": "OeOrNdnkEEcR"
   },
   "outputs": [
    {
     "data": {
      "text/plain": [
       "array([[-0.4976054 ,  0.7452534 , -0.56459004, -0.1677545 , -0.21002756,\n",
       "        -0.5569352 , -1.0724969 ,  0.16407242, -0.11991592, -0.66634876]],\n",
       "      dtype=float32)"
      ]
     },
     "execution_count": 5,
     "metadata": {},
     "output_type": "execute_result"
    }
   ],
   "source": [
    "predictions = model(x_train[:1]).numpy()\n",
    "predictions"
   ]
  },
  {
   "cell_type": "markdown",
   "metadata": {
    "id": "tgjhDQGcIniO"
   },
   "source": [
    "`tf.nn.softmax` 関数は、クラスごとにこれらのロジットを \"probabilities\" に変換します。 "
   ]
  },
  {
   "cell_type": "code",
   "execution_count": 6,
   "metadata": {
    "id": "zWSRnQ0WI5eq"
   },
   "outputs": [
    {
     "data": {
      "text/plain": [
       "array([[0.0720902 , 0.24982908, 0.06741945, 0.10026023, 0.09611026,\n",
       "        0.06793752, 0.04056992, 0.13971381, 0.10517311, 0.06089645]],\n",
       "      dtype=float32)"
      ]
     },
     "execution_count": 6,
     "metadata": {},
     "output_type": "execute_result"
    }
   ],
   "source": [
    "tf.nn.softmax(predictions).numpy()"
   ]
  },
  {
   "cell_type": "markdown",
   "metadata": {
    "id": "he5u_okAYS4a"
   },
   "source": [
    "注意: この `tf.nn.softmax` をネットワークの最後のレイヤーのアクティベーション関数として組み込むことも可能です。こうすることでモデルの出力をより直接的に解釈可能にすることもできますが、softmax 出力を使用する場合、すべてのモデルに対して正確で数値的に安定した損失計算を提供することは不可能であるため、この方法は推奨されません。 "
   ]
  },
  {
   "cell_type": "markdown",
   "metadata": {
    "id": "hQyugpgRIyrA"
   },
   "source": [
    "`losses.SparseCategoricalCrossentropy` を使用して、トレーニングの損失関数を定義します。"
   ]
  },
  {
   "cell_type": "code",
   "execution_count": 7,
   "metadata": {
    "id": "RSkzdv8MD0tT"
   },
   "outputs": [],
   "source": [
    "loss_fn = tf.keras.losses.SparseCategoricalCrossentropy(from_logits=True)"
   ]
  },
  {
   "cell_type": "markdown",
   "metadata": {
    "id": "SfR4MsSDU880"
   },
   "source": [
    "損失関数は、グラウンドトゥルース値のベクトルとロジットのベクトルを取り、サンプルごとにスカラー損失を返します。この損失は true クラスの負の対数確率と同等です。モデルが確実に正しいクラスである場合、損失はゼロとなります。\n",
    "\n",
    "トレーニングされていないこのモデルでは、ランダムに近い確率（クラス当たり 1/10）が得られるため、最初の損失は `-tf.math.log(1/10) ~= 2.3` に近くなります。"
   ]
  },
  {
   "cell_type": "code",
   "execution_count": 8,
   "metadata": {
    "id": "NJWqEVrrJ7ZB"
   },
   "outputs": [
    {
     "data": {
      "text/plain": [
       "2.6891668"
      ]
     },
     "execution_count": 8,
     "metadata": {},
     "output_type": "execute_result"
    }
   ],
   "source": [
    "loss_fn(y_train[:1], predictions).numpy()"
   ]
  },
  {
   "cell_type": "markdown",
   "metadata": {
    "id": "ada44eb947d4"
   },
   "source": [
    "トレーニングを開始する前に、Keras `Model.compile` を使用してモデルの構成とコンパイルを行います。[`optimizer`](https://www.tensorflow.org/api_docs/python/tf/keras/optimizers) クラスを `adam` に、`loss` を前に定義した `loss_fn` 関数に設定し、`metrics` パラメータを `accuracy` に設定して評価するモデルの指標を指定します。"
   ]
  },
  {
   "cell_type": "code",
   "execution_count": 9,
   "metadata": {
    "id": "9foNKHzTD2Vo"
   },
   "outputs": [],
   "source": [
    "model.compile(optimizer='adam',\n",
    "              loss=loss_fn,\n",
    "              metrics=['accuracy'])"
   ]
  },
  {
   "cell_type": "markdown",
   "metadata": {
    "id": "ix4mEL65on-w"
   },
   "source": [
    "## モデルをトレーニングして評価する\n",
    "\n",
    "損失を最小限に抑えられるようにモデルのパラメータを `Model.fit` メソッドで調整します。 "
   ]
  },
  {
   "cell_type": "code",
   "execution_count": 10,
   "metadata": {
    "id": "y7suUbJXVLqP"
   },
   "outputs": [
    {
     "name": "stdout",
     "output_type": "stream",
     "text": [
      "Epoch 1/5\n",
      "\u001b[1m1875/1875\u001b[0m \u001b[32m━━━━━━━━━━━━━━━━━━━━\u001b[0m\u001b[37m\u001b[0m \u001b[1m4s\u001b[0m 2ms/step - accuracy: 0.8536 - loss: 0.4944\n",
      "Epoch 2/5\n",
      "\u001b[1m1875/1875\u001b[0m \u001b[32m━━━━━━━━━━━━━━━━━━━━\u001b[0m\u001b[37m\u001b[0m \u001b[1m4s\u001b[0m 2ms/step - accuracy: 0.9562 - loss: 0.1485\n",
      "Epoch 3/5\n",
      "\u001b[1m1875/1875\u001b[0m \u001b[32m━━━━━━━━━━━━━━━━━━━━\u001b[0m\u001b[37m\u001b[0m \u001b[1m4s\u001b[0m 2ms/step - accuracy: 0.9669 - loss: 0.1077\n",
      "Epoch 4/5\n",
      "\u001b[1m1875/1875\u001b[0m \u001b[32m━━━━━━━━━━━━━━━━━━━━\u001b[0m\u001b[37m\u001b[0m \u001b[1m4s\u001b[0m 2ms/step - accuracy: 0.9726 - loss: 0.0865\n",
      "Epoch 5/5\n",
      "\u001b[1m1875/1875\u001b[0m \u001b[32m━━━━━━━━━━━━━━━━━━━━\u001b[0m\u001b[37m\u001b[0m \u001b[1m4s\u001b[0m 2ms/step - accuracy: 0.9776 - loss: 0.0741\n"
     ]
    },
    {
     "data": {
      "text/plain": [
       "<keras.src.callbacks.history.History at 0x7f4ce6899fd0>"
      ]
     },
     "execution_count": 10,
     "metadata": {},
     "output_type": "execute_result"
    }
   ],
   "source": [
    "model.fit(x_train, y_train, epochs=5)"
   ]
  },
  {
   "cell_type": "markdown",
   "metadata": {
    "id": "4mDAAPFqVVgn"
   },
   "source": [
    "`Model.evaluate` メソッドは、通常[検証セット](https://developers.google.com/machine-learning/glossary#validation-set)または[テストセット](https://developers.google.com/machine-learning/glossary#test-set)でモデルのパフォーマンスをチェックします。"
   ]
  },
  {
   "cell_type": "code",
   "execution_count": 11,
   "metadata": {
    "id": "F7dTAzgHDUh7"
   },
   "outputs": [
    {
     "name": "stdout",
     "output_type": "stream",
     "text": [
      "313/313 - 0s - 904us/step - accuracy: 0.9744 - loss: 0.0793\n"
     ]
    },
    {
     "data": {
      "text/plain": [
       "[0.07933278381824493, 0.974399983882904]"
      ]
     },
     "execution_count": 11,
     "metadata": {},
     "output_type": "execute_result"
    }
   ],
   "source": [
    "model.evaluate(x_test,  y_test, verbose=2)"
   ]
  },
  {
   "cell_type": "markdown",
   "metadata": {
    "id": "T4JfEh7kvx6m"
   },
   "source": [
    "`tf.nn.softmax` 関数はクラスごとにこれらのロジットを \"確率\" に変換します。"
   ]
  },
  {
   "cell_type": "markdown",
   "metadata": {
    "id": "Aj8NrlzlJqDG"
   },
   "source": [
    "モデルが確率を返すようにするには、トレーニング済みのモデルをラップして、それに softmax を接続することができます。"
   ]
  },
  {
   "cell_type": "code",
   "execution_count": 12,
   "metadata": {
    "id": "rYb6DrEH0GMv"
   },
   "outputs": [],
   "source": [
    "probability_model = tf.keras.Sequential([\n",
    "  model,\n",
    "  tf.keras.layers.Softmax()\n",
    "])"
   ]
  },
  {
   "cell_type": "code",
   "execution_count": 13,
   "metadata": {
    "id": "cnqOZtUp1YR_"
   },
   "outputs": [
    {
     "data": {
      "text/plain": [
       "<tf.Tensor: shape=(5, 10), dtype=float32, numpy=\n",
       "array([[1.26126622e-06, 4.20556709e-08, 6.30011436e-06, 5.27933764e-04,\n",
       "        1.34024389e-10, 9.54416706e-08, 8.66402870e-12, 9.99437988e-01,\n",
       "        7.88052330e-06, 1.84160690e-05],\n",
       "       [8.63836874e-07, 3.42287123e-03, 9.96492565e-01, 8.31868092e-05,\n",
       "        6.18882549e-13, 2.70753819e-08, 5.95594010e-08, 7.69712766e-12,\n",
       "        2.79856039e-07, 1.00807458e-13],\n",
       "       [2.92093176e-07, 9.99254644e-01, 2.59343269e-05, 2.20538482e-06,\n",
       "        1.64614703e-05, 6.04004128e-07, 5.15229658e-06, 6.55303476e-04,\n",
       "        3.84260638e-05, 9.87753083e-07],\n",
       "       [9.99689102e-01, 8.51806542e-11, 7.24624761e-06, 1.11890095e-07,\n",
       "        7.95341566e-06, 7.43704322e-06, 9.65438740e-05, 1.90225415e-04,\n",
       "        3.35126970e-07, 9.92587843e-07],\n",
       "       [1.62528577e-05, 1.41501411e-09, 3.32275221e-07, 3.11679464e-08,\n",
       "        9.98672247e-01, 7.88060390e-07, 7.94509833e-06, 3.35709119e-05,\n",
       "        2.31645373e-07, 1.26859092e-03]], dtype=float32)>"
      ]
     },
     "execution_count": 13,
     "metadata": {},
     "output_type": "execute_result"
    }
   ],
   "source": [
    "probability_model(x_test[:5])"
   ]
  },
  {
   "cell_type": "markdown",
   "metadata": {
    "id": "-47O6_GLdRuT"
   },
   "source": [
    "## まとめ\n",
    "\n",
    "おめでとうございます！事前構築済みのデータセットと [Keras](https://www.tensorflow.org/guide/keras/overview) API を使用して、機械学習モデルをトレーニングしました。\n",
    "\n",
    "Keras のその他の使用例については、[チュートリアル](https://www.tensorflow.org/tutorials/keras/)をご覧ください。Keras を使ったモデルの構築に関してさらに学習するには、[ガイド](https://www.tensorflow.org/guide/keras)をお読みください。データの読み込みと準備についてさらに学習するには、[画像データの読み込み](https://www.tensorflow.org/tutorials/load_data/images)または [CSV データの読み込み](https://www.tensorflow.org/tutorials/load_data/csv)に関するチュートリアルをご覧ください。\n"
   ]
  },
  {
   "cell_type": "code",
   "execution_count": null,
   "metadata": {},
   "outputs": [],
   "source": []
  }
 ],
 "metadata": {
  "colab": {
   "name": "beginner.ipynb",
   "toc_visible": true
  },
  "kernelspec": {
   "display_name": "Python 3 (ipykernel)",
   "language": "python",
   "name": "python3"
  },
  "language_info": {
   "codemirror_mode": {
    "name": "ipython",
    "version": 3
   },
   "file_extension": ".py",
   "mimetype": "text/x-python",
   "name": "python",
   "nbconvert_exporter": "python",
   "pygments_lexer": "ipython3",
   "version": "3.11.0rc1"
  }
 },
 "nbformat": 4,
 "nbformat_minor": 4
}
